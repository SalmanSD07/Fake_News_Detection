{
  "nbformat": 4,
  "nbformat_minor": 0,
  "metadata": {
    "colab": {
      "provenance": []
    },
    "kernelspec": {
      "name": "python3",
      "display_name": "Python 3"
    },
    "language_info": {
      "name": "python"
    }
  },
  "cells": [
    {
      "cell_type": "code",
      "execution_count": null,
      "metadata": {
        "colab": {
          "base_uri": "https://localhost:8080/"
        },
        "id": "VLe4GBxXR1IF",
        "outputId": "f3e64ccb-763c-4175-d431-e720fae87fac"
      },
      "outputs": [
        {
          "output_type": "stream",
          "name": "stdout",
          "text": [
            "Looking in indexes: https://pypi.org/simple, https://us-python.pkg.dev/colab-wheels/public/simple/\n",
            "Requirement already satisfied: nltk in /usr/local/lib/python3.7/dist-packages (3.7)\n",
            "Requirement already satisfied: joblib in /usr/local/lib/python3.7/dist-packages (from nltk) (1.2.0)\n",
            "Requirement already satisfied: tqdm in /usr/local/lib/python3.7/dist-packages (from nltk) (4.64.1)\n",
            "Requirement already satisfied: click in /usr/local/lib/python3.7/dist-packages (from nltk) (7.1.2)\n",
            "Requirement already satisfied: regex>=2021.8.3 in /usr/local/lib/python3.7/dist-packages (from nltk) (2022.6.2)\n"
          ]
        }
      ],
      "source": [
        "!pip install nltk"
      ]
    },
    {
      "cell_type": "code",
      "source": [
        "import csv                               # csv reader\n",
        "from sklearn.svm import LinearSVC,SVC\n",
        "from nltk.classify import SklearnClassifier\n",
        "from sklearn.pipeline import Pipeline\n",
        "from sklearn.metrics import precision_recall_fscore_support # to report on precision and recall\n",
        "import numpy as np\n",
        "import pandas as pd\n",
        "import matplotlib.pyplot as plt\n",
        "import re"
      ],
      "metadata": {
        "id": "zpjeqkpKR_IR"
      },
      "execution_count": null,
      "outputs": []
    },
    {
      "cell_type": "code",
      "source": [
        "def load_data(path):\n",
        "    \n",
        "    \n",
        "    with open(path) as f:\n",
        "        reader = csv.reader(f, delimiter='\\t')\n",
        "        for line in reader:\n",
        "\n",
        "            if line[0] == \"Id\":  # skip header\n",
        "                continue\n",
        "            additional_features=Counter()\n",
        "            additional_features['subject']=line[3]\n",
        "            additional_features['speaker']=line[4]\n",
        "            additional_features['speaker_job_title']=line[5]\n",
        "            additional_features['state_info']=line[6]\n",
        "            additional_features['party_affiliation']=line[7]\n",
        "            additional_features['total_barely_true_counts']=line[8]\n",
        "            additional_features['total_false_counts']=line[9]\n",
        "            additional_features['total_half_true_counts']=line[10]\n",
        "            additional_features['total_mostly_true_counts']=line[11]\n",
        "            additional_features['total_pants_on_fire_counts']=line[12]\n",
        "\n",
        "            (label, text) = parse_data_line(line)\n",
        "            raw_data.append((text, label,additional_features))\n",
        "\n",
        "def split_and_preprocess_data(percentage):\n",
        "    \"\"\"Split the data between train_data and test_data according to the percentage\n",
        "    and performs the preprocessing.\"\"\"\n",
        "    num_samples = len(raw_data)\n",
        "    num_training_samples = int((percentage * num_samples))\n",
        "    for (text, label,additional_features) in raw_data[:num_training_samples]:\n",
        "        dict1=bigram_features(pre_process(text))\n",
        "       \n",
        "        dict_final=Counter({**dict1, **additional_features})\n",
        "        train_data.append((dict_final,label))\n",
        "    for (text, label,additional_features) in raw_data[num_training_samples:]:\n",
        "        \n",
        "        dict1=bigram_features(pre_process(text))\n",
        "        \n",
        "        dict_final=Counter({**dict1,**additional_features})\n",
        "        test_data.append((dict_final,label))"
      ],
      "metadata": {
        "id": "KSy9BUUKSCJG"
      },
      "execution_count": null,
      "outputs": []
    },
    {
      "cell_type": "code",
      "source": [
        "\n",
        "def convert_label(label):\n",
        "    \n",
        "    \n",
        "    labels_map = {\n",
        "        'true': 'REAL',\n",
        "        'mostly-true': 'REAL',\n",
        "        'half-true': 'REAL',\n",
        "        'false': 'FAKE',\n",
        "        'barely-true': 'FAKE',\n",
        "        'pants-fire': 'FAKE'\n",
        "    }\n",
        "    return labels_map[label]\n",
        "\n",
        "\n",
        "\n",
        "def parse_data_line(data_line):\n",
        "    \n",
        "    labels=convert_label(data_line[1])\n",
        "    return (labels,data_line[2])"
      ],
      "metadata": {
        "id": "3Z_kpcZOSRLz"
      },
      "execution_count": null,
      "outputs": []
    },
    {
      "cell_type": "code",
      "source": [
        "import nltk\n",
        "nltk.download('stopwords')\n",
        "import string\n",
        "\n",
        "from nltk.corpus import stopwords\n",
        "from nltk.stem import PorterStemmer\n",
        "# from nltk.tokenize import TweetTokenizer"
      ],
      "metadata": {
        "colab": {
          "base_uri": "https://localhost:8080/"
        },
        "id": "1X0l62PuUKiD",
        "outputId": "717bc890-77ab-4472-c0d6-99056a2277dd"
      },
      "execution_count": null,
      "outputs": [
        {
          "output_type": "stream",
          "name": "stderr",
          "text": [
            "[nltk_data] Downloading package stopwords to /root/nltk_data...\n",
            "[nltk_data]   Package stopwords is already up-to-date!\n"
          ]
        }
      ]
    },
    {
      "cell_type": "code",
      "source": [
        "def pre_process(text):\n",
        "    text = re.sub(r\"(\\w)([.,;:!?'\\\"”\\)])\", r\"\\1 \\2\", text)\n",
        "    text = re.sub(r\"([.,;:!?'\\\"“\\(\\)])(\\w)\", r\"\\1 \\2\", text)\n",
        "    tokens = re.split(r\"\\s+\",text)\n",
        "    tokens = [t.lower() for t in tokens]\n",
        "    \n",
        "    # removing stopwords and punctuations\n",
        "    stopwords_english=stopwords.words('english')\n",
        "    token_clean = []\n",
        "\n",
        "    for word in tokens:\n",
        "      if (word not in stopwords_english and\n",
        "        word not in string.punctuation):\n",
        "        token_clean.append(word)\n",
        "\n",
        "\n",
        "    #  stemming\n",
        "    stemmer=PorterStemmer()\n",
        "    stemmed_token=[]\n",
        "    for word in token_clean:\n",
        "      stem_word=stemmer.stem(word)\n",
        "      stemmed_token.append(stem_word)\n",
        "\n",
        "    return stemmed_token"
      ],
      "metadata": {
        "id": "GEsNTvw7SYjF"
      },
      "execution_count": null,
      "outputs": []
    },
    {
      "cell_type": "code",
      "source": [
        "def glue_tokens(tokens, order):\n",
        "    \"\"\"A useful way of glueing tokens together for\n",
        "    Kneser Ney smoothing and other smoothing methods\n",
        "    \n",
        "    :param: order is the order of the language model\n",
        "        (1 = unigram, 2 = bigram, 3 =trigram etc.)\n",
        "    \"\"\"\n",
        "    return '{0}@{1}'.format(order,' '.join(tokens))"
      ],
      "metadata": {
        "id": "xVge-fPdZJXQ"
      },
      "execution_count": null,
      "outputs": []
    },
    {
      "cell_type": "code",
      "source": [
        "from nltk.util import bigrams\n",
        "# implementing bigram model\n",
        "from collections import Counter\n",
        "\n",
        "\n",
        "def bigram_features(tokens):\n",
        "  length=len(tokens)\n",
        "  bigrams=Counter()\n",
        "  bigram_context=Counter()\n",
        "  order=2\n",
        "  tokens = ['<s>'] * (order-1) + tokens + ['</s>']\n",
        "  for i in range(order - 1, len(tokens)):\n",
        "        context = tokens[i-order+1:i]\n",
        "        target = tokens[i]\n",
        "        ngram = context + [target]\n",
        "        bigrams[glue_tokens(ngram, order)] +=1\n",
        "        bigram_context[glue_tokens(context, 1)] += 1\n",
        "\n",
        "  \n",
        "  bigrams['length']=length\n",
        "\n",
        "  return bigrams\n",
        "\n"
      ],
      "metadata": {
        "id": "M8rOeekTXzCt"
      },
      "execution_count": null,
      "outputs": []
    },
    {
      "cell_type": "code",
      "source": [
        "global_feature_dict = {} # A global dictionary of features\n",
        "\n",
        "def to_feature_vector(tokens):\n",
        "    \n",
        "    local_dict={}\n",
        "    for word in tokens:\n",
        "      count=global_feature_dict.get(word,0)\n",
        "      global_feature_dict[word]=count+1\n",
        "      local_count=local_dict.get(word,0)\n",
        "\n",
        "      local_dict[word]=local_count+1\n",
        "    return local_dict"
      ],
      "metadata": {
        "id": "LlWkyiKJScsL"
      },
      "execution_count": null,
      "outputs": []
    },
    {
      "cell_type": "code",
      "source": [
        "\n",
        "from sklearn.metrics import classification_report\n",
        "from sklearn.metrics import accuracy_score, precision_score,recall_score,f1_score\n",
        "\n",
        "def cross_validate(dataset, folds):\n",
        "    results = []\n",
        "    actual=[]\n",
        "    scores=[]\n",
        "    cv_results={}\n",
        "    precesion=[]\n",
        "    reccall=[]\n",
        "    fs_core=[]\n",
        "    acc=[]\n",
        "    fold_size = int(len(dataset)/folds) + 1\n",
        " \n",
        "    for i in range(0,len(dataset),int(fold_size)):\n",
        "       \n",
        "        print(\"Fold start on items %d - %d\" % (i, i+fold_size))\n",
        "        \n",
        "        test_d=dataset[i:i+fold_size]\n",
        "        train_d=dataset[0:i]+dataset[i+fold_size:len(dataset)]\n",
        "        classifier=train_classifier(train_d)\n",
        "        results=predict_labels([x[0] for x in test_d], classifier)\n",
        "        actual=[x[1] for x in test_d]\n",
        "        \n",
        "        precision, recall, fscore, _ = precision_recall_fscore_support(actual, results, average='weighted')\n",
        "        accuracy=accuracy_score(actual,results)\n",
        "        \n",
        "        precesion.append(precision)\n",
        "        reccall.append(recall)\n",
        "        fs_core.append(fscore)\n",
        "        acc.append(accuracy)\n",
        "        \n",
        "    \n",
        "    cv_results['Precision']=np.mean(precesion)\n",
        "    cv_results['Recall']=np.mean(reccall)\n",
        "    cv_results['fscore']=np.mean(fs_core)\n",
        "    cv_results['accuracy']=np.mean(acc) \n",
        "    \n",
        "        \n",
        "    return cv_results"
      ],
      "metadata": {
        "id": "hBQXTZVbSlcL"
      },
      "execution_count": null,
      "outputs": []
    },
    {
      "cell_type": "code",
      "source": [
        "\n",
        "def predict_labels(samples, classifier):\n",
        "    return classifier.classify_many(samples)\n",
        "\n",
        "def predict_label_from_raw(sample, classifier):\n",
        "   \n",
        "    return classifier.classify(to_feature_vector(preProcess(reviewSample)))"
      ],
      "metadata": {
        "id": "MhYk-IahSqA9"
      },
      "execution_count": null,
      "outputs": []
    },
    {
      "cell_type": "code",
      "source": [
        "\n",
        "raw_data = []         \n",
        "train_data = []       \n",
        "test_data = []        \n",
        "\n",
        "\n",
        "# references to the data files\n",
        "data_file_path = 'fake_news.tsv'\n",
        "\n",
        "\n",
        "print(\"Now %d rawData, %d trainData, %d testData\" % (len(raw_data), len(train_data), len(test_data)),\n",
        "      \"Preparing the dataset...\",sep='\\n')\n",
        "\n",
        "load_data(data_file_path) \n",
        "\n",
        "\n",
        "print(\"Now %d rawData, %d trainData, %d testData\" % (len(raw_data), len(train_data), len(test_data)),\n",
        "      \"Preparing training and test data...\",sep='\\n')\n",
        "\n",
        "split_and_preprocess_data(0.8)\n",
        "\n",
        "\n",
        "print(\"After split, %d rawData, %d trainData, %d testData\" % (len(raw_data), len(train_data), len(test_data)),\n",
        "      \"Training Samples: \", len(train_data), \"Features: \", len(global_feature_dict), sep='\\n')\n"
      ],
      "metadata": {
        "colab": {
          "base_uri": "https://localhost:8080/"
        },
        "id": "fHgyRXVdSuBA",
        "outputId": "4e3fb081-6159-4379-8f56-e8690806c8a9"
      },
      "execution_count": null,
      "outputs": [
        {
          "output_type": "stream",
          "name": "stdout",
          "text": [
            "Now 0 rawData, 0 trainData, 0 testData\n",
            "Preparing the dataset...\n",
            "Now 10241 rawData, 0 trainData, 0 testData\n",
            "Preparing training and test data...\n",
            "After split, 10241 rawData, 8192 trainData, 2049 testData\n",
            "Training Samples: \n",
            "8192\n",
            "Features: \n",
            "0\n"
          ]
        }
      ]
    },
    {
      "cell_type": "code",
      "source": [
        "\n",
        "def train_classifier(data):\n",
        "    print(\"Training Classifier...\")\n",
        "    weights = {0:1.0, 1:5.0}\n",
        "    pipeline =  Pipeline([('svc', LinearSVC(C=0.03))])\n",
        "    return SklearnClassifier(pipeline).train(data)"
      ],
      "metadata": {
        "id": "40NOmxM1Sg0r"
      },
      "execution_count": null,
      "outputs": []
    },
    {
      "cell_type": "code",
      "source": [
        "cross_validate(train_data, 10)"
      ],
      "metadata": {
        "colab": {
          "base_uri": "https://localhost:8080/"
        },
        "id": "GclwvtC1Swig",
        "outputId": "c23369d3-0188-4c21-dafc-52ab3dd713f9"
      },
      "execution_count": null,
      "outputs": [
        {
          "output_type": "stream",
          "name": "stdout",
          "text": [
            "Fold start on items 0 - 820\n",
            "Training Classifier...\n"
          ]
        },
        {
          "output_type": "stream",
          "name": "stderr",
          "text": [
            "/usr/local/lib/python3.7/dist-packages/sklearn/svm/_base.py:1208: ConvergenceWarning: Liblinear failed to converge, increase the number of iterations.\n",
            "  ConvergenceWarning,\n"
          ]
        },
        {
          "output_type": "stream",
          "name": "stdout",
          "text": [
            "Fold start on items 820 - 1640\n",
            "Training Classifier...\n"
          ]
        },
        {
          "output_type": "stream",
          "name": "stderr",
          "text": [
            "/usr/local/lib/python3.7/dist-packages/sklearn/svm/_base.py:1208: ConvergenceWarning: Liblinear failed to converge, increase the number of iterations.\n",
            "  ConvergenceWarning,\n"
          ]
        },
        {
          "output_type": "stream",
          "name": "stdout",
          "text": [
            "Fold start on items 1640 - 2460\n",
            "Training Classifier...\n"
          ]
        },
        {
          "output_type": "stream",
          "name": "stderr",
          "text": [
            "/usr/local/lib/python3.7/dist-packages/sklearn/svm/_base.py:1208: ConvergenceWarning: Liblinear failed to converge, increase the number of iterations.\n",
            "  ConvergenceWarning,\n"
          ]
        },
        {
          "output_type": "stream",
          "name": "stdout",
          "text": [
            "Fold start on items 2460 - 3280\n",
            "Training Classifier...\n"
          ]
        },
        {
          "output_type": "stream",
          "name": "stderr",
          "text": [
            "/usr/local/lib/python3.7/dist-packages/sklearn/svm/_base.py:1208: ConvergenceWarning: Liblinear failed to converge, increase the number of iterations.\n",
            "  ConvergenceWarning,\n"
          ]
        },
        {
          "output_type": "stream",
          "name": "stdout",
          "text": [
            "Fold start on items 3280 - 4100\n",
            "Training Classifier...\n"
          ]
        },
        {
          "output_type": "stream",
          "name": "stderr",
          "text": [
            "/usr/local/lib/python3.7/dist-packages/sklearn/svm/_base.py:1208: ConvergenceWarning: Liblinear failed to converge, increase the number of iterations.\n",
            "  ConvergenceWarning,\n"
          ]
        },
        {
          "output_type": "stream",
          "name": "stdout",
          "text": [
            "Fold start on items 4100 - 4920\n",
            "Training Classifier...\n"
          ]
        },
        {
          "output_type": "stream",
          "name": "stderr",
          "text": [
            "/usr/local/lib/python3.7/dist-packages/sklearn/svm/_base.py:1208: ConvergenceWarning: Liblinear failed to converge, increase the number of iterations.\n",
            "  ConvergenceWarning,\n"
          ]
        },
        {
          "output_type": "stream",
          "name": "stdout",
          "text": [
            "Fold start on items 4920 - 5740\n",
            "Training Classifier...\n"
          ]
        },
        {
          "output_type": "stream",
          "name": "stderr",
          "text": [
            "/usr/local/lib/python3.7/dist-packages/sklearn/svm/_base.py:1208: ConvergenceWarning: Liblinear failed to converge, increase the number of iterations.\n",
            "  ConvergenceWarning,\n"
          ]
        },
        {
          "output_type": "stream",
          "name": "stdout",
          "text": [
            "Fold start on items 5740 - 6560\n",
            "Training Classifier...\n"
          ]
        },
        {
          "output_type": "stream",
          "name": "stderr",
          "text": [
            "/usr/local/lib/python3.7/dist-packages/sklearn/svm/_base.py:1208: ConvergenceWarning: Liblinear failed to converge, increase the number of iterations.\n",
            "  ConvergenceWarning,\n"
          ]
        },
        {
          "output_type": "stream",
          "name": "stdout",
          "text": [
            "Fold start on items 6560 - 7380\n",
            "Training Classifier...\n"
          ]
        },
        {
          "output_type": "stream",
          "name": "stderr",
          "text": [
            "/usr/local/lib/python3.7/dist-packages/sklearn/svm/_base.py:1208: ConvergenceWarning: Liblinear failed to converge, increase the number of iterations.\n",
            "  ConvergenceWarning,\n"
          ]
        },
        {
          "output_type": "stream",
          "name": "stdout",
          "text": [
            "Fold start on items 7380 - 8200\n",
            "Training Classifier...\n"
          ]
        },
        {
          "output_type": "execute_result",
          "data": {
            "text/plain": [
              "{'Precision': 0.7170572680055672,\n",
              " 'Recall': 0.7176600985221674,\n",
              " 'fscore': 0.7151948958710237,\n",
              " 'accuracy': 0.7176600985221674}"
            ]
          },
          "metadata": {},
          "execution_count": 68
        }
      ]
    },
    {
      "cell_type": "code",
      "source": [
        "\n",
        "functions_complete = True  \n",
        "if functions_complete:\n",
        "    print(test_data[0])   \n",
        "    classifier = train_classifier(train_data) \n",
        "    test_true = [t[1] for t in test_data]   \n",
        "    test_pred = predict_labels([x[0] for x in test_data], classifier)\n",
        "    final_scores = precision_recall_fscore_support(test_true, test_pred, average='weighted') \n",
        "    acc=accuracy_score(test_true,test_pred)\n",
        "    print(\"Done training!\")\n",
        "    print(\"Precision: %f\\nRecall: %f\\nF Score:%f\" % final_scores[:3])\n",
        "    print(\"Accuracy:\",acc)"
      ],
      "metadata": {
        "colab": {
          "base_uri": "https://localhost:8080/"
        },
        "id": "Av38Bx0VS29k",
        "outputId": "fc33d69c-03de-4a9f-b862-b93b90238d46"
      },
      "execution_count": null,
      "outputs": [
        {
          "output_type": "stream",
          "name": "stdout",
          "text": [
            "(Counter({'2@<s> bush': 1, '2@bush tax': 1, '2@tax cut': 1, '2@cut help': 1, '2@help creat': 1, '2@creat substanti': 1, '2@substanti part': 1, '2@part deficit': 1, '2@deficit </s>': 1, 'length': 8, 'subject': 'bush-administration,deficit,taxes', 'speaker': 'dennis-kucinich', 'speaker_job_title': 'U.S. representative', 'state_info': 'Ohio', 'party_affiliation': 'democrat', 'total_barely_true_counts': '1', 'total_false_counts': '3', 'total_half_true_counts': '4', 'total_mostly_true_counts': '6', 'total_pants_on_fire_counts': '0'}), 'REAL')\n",
            "Training Classifier...\n",
            "Done training!\n",
            "Precision: 0.708511\n",
            "Recall: 0.708638\n",
            "F Score:0.705511\n",
            "Accuracy: 0.7086383601756955\n"
          ]
        },
        {
          "output_type": "stream",
          "name": "stderr",
          "text": [
            "/usr/local/lib/python3.7/dist-packages/sklearn/svm/_base.py:1208: ConvergenceWarning: Liblinear failed to converge, increase the number of iterations.\n",
            "  ConvergenceWarning,\n"
          ]
        }
      ]
    },
    {
      "cell_type": "code",
      "source": [
        "from sklearn import metrics\n",
        "import matplotlib.pyplot as plt\n",
        "def confusion_matrix_heatmap(y_test, preds, labels):\n",
        "   \n",
        "    cm = metrics.confusion_matrix(y_test, preds)\n",
        "    fig = plt.figure(figsize=(10,10))\n",
        "    ax = fig.add_subplot(111)\n",
        "    cax = ax.matshow(cm)\n",
        "    plt.title('Confusion matrix of the classifier')\n",
        "    fig.colorbar(cax)\n",
        "    ax.set_xticks(np.arange(len(labels)))\n",
        "    ax.set_yticks(np.arange(len(labels)))\n",
        "    ax.set_xticklabels( labels, rotation=45)\n",
        "    ax.set_yticklabels( labels)\n",
        "\n",
        "    for i in range(len(cm)):\n",
        "        for j in range(len(cm)):\n",
        "            text = ax.text(j, i, cm[i, j],\n",
        "                           ha=\"center\", va=\"center\", color=\"w\")\n",
        "\n",
        "    plt.xlabel('Predicted')\n",
        "    plt.ylabel('True')\n",
        "\n",
        "    b, t = plt.ylim() \n",
        "    b += 0.5 \n",
        "    t -= 0.5 \n",
        "    plt.ylim(b, t) \n",
        "    plt.show() \n",
        "    plt.show()\n",
        "    "
      ],
      "metadata": {
        "id": "Ki6oMZOXdCpy"
      },
      "execution_count": null,
      "outputs": []
    },
    {
      "cell_type": "code",
      "source": [
        "lb=['REAL','FAKE']\n",
        "actual=[x[1] for x in test_data]\n",
        "error_classifier = train_classifier(train_data)\n",
        "results = predict_labels([x[0] for x in test_data], error_classifier)\n",
        "confusion_met=metrics.confusion_matrix(actual, results)\n",
        "print('false positives=',confusion_met[1,0])\n",
        "print('false negatives=',confusion_met[0,1])\n",
        "confusion_matrix_heatmap(actual,results,['FAKE','REAL'])"
      ],
      "metadata": {
        "colab": {
          "base_uri": "https://localhost:8080/",
          "height": 723
        },
        "id": "aEffConAvZs1",
        "outputId": "4d3fe44a-f405-47fe-ff39-fc5f9b16d81a"
      },
      "execution_count": null,
      "outputs": [
        {
          "output_type": "stream",
          "name": "stdout",
          "text": [
            "Training Classifier...\n"
          ]
        },
        {
          "output_type": "stream",
          "name": "stderr",
          "text": [
            "/usr/local/lib/python3.7/dist-packages/sklearn/svm/_base.py:1208: ConvergenceWarning: Liblinear failed to converge, increase the number of iterations.\n",
            "  ConvergenceWarning,\n"
          ]
        },
        {
          "output_type": "stream",
          "name": "stdout",
          "text": [
            "false positives= 232\n",
            "false negatives= 365\n"
          ]
        },
        {
          "output_type": "display_data",
          "data": {
            "text/plain": [
              "<Figure size 720x720 with 2 Axes>"
            ],
            "image/png": "[encoded data removed]"
          },
          "metadata": {
            "needs_background": "light"
          }
        }
      ]
    }
  ]
}